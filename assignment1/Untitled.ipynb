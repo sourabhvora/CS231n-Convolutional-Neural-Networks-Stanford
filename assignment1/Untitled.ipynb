{
 "cells": [
  {
   "cell_type": "code",
   "execution_count": 1,
   "metadata": {
    "collapsed": true
   },
   "outputs": [],
   "source": [
    "import numpy as np"
   ]
  },
  {
   "cell_type": "code",
   "execution_count": 10,
   "metadata": {
    "collapsed": false
   },
   "outputs": [
    {
     "name": "stdout",
     "output_type": "stream",
     "text": [
      "W4\n",
      "W1\n",
      "b4\n",
      "W4\n",
      "W3\n",
      "b1\n",
      "b2\n",
      "b3\n",
      "W2\n"
     ]
    }
   ],
   "source": [
    "num_layers = 4\n",
    "weight_scale = 0.01\n",
    "input_dim = 2\n",
    "hidden_dims = [2,3,4]\n",
    "num_classes = 5\n",
    "\n",
    "params = {}\n",
    "\n",
    "for i in xrange(num_layers-1):\n",
    "    weight_name = 'W' + str(i+1)\n",
    "    bias_name = 'b' + str(i+1)\n",
    "    if i==0:\n",
    "        params[weight_name] = np.random.randn(input_dim,hidden_dims[i])*weight_scale\n",
    "    else:\n",
    "        params[weight_name] = np.random.randn(hidden_dims[i-1],hidden_dims[i])*weight_scale\n",
    "    params[bias_name] = np.zeros((hidden_dims[i],))\n",
    "        \n",
    "#Initializing the weights and biases for the softmax/svm layer at the end\n",
    "weight_name = 'W' + str(num_layers)\n",
    "print weight_name\n",
    "bias_name = 'b' + str(num_layers)\n",
    "params[weight_name] = np.random.randn(hidden_dims[-1],num_classes)*weight_scale \n",
    "params[bias_name] = np.zeros((num_classes,))\n",
    "\n",
    "for p in params:\n",
    "    print p\n",
    "    #print w\n"
   ]
  },
  {
   "cell_type": "code",
   "execution_count": 10,
   "metadata": {
    "collapsed": false
   },
   "outputs": [
    {
     "ename": "ImportError",
     "evalue": "No module named keras.preprocessing.image",
     "output_type": "error",
     "traceback": [
      "\u001b[1;31m---------------------------------------------------------------------------\u001b[0m",
      "\u001b[1;31mImportError\u001b[0m                               Traceback (most recent call last)",
      "\u001b[1;32m<ipython-input-10-9d0ace598952>\u001b[0m in \u001b[0;36m<module>\u001b[1;34m()\u001b[0m\n\u001b[1;32m----> 1\u001b[1;33m \u001b[1;32mfrom\u001b[0m \u001b[0mkeras\u001b[0m\u001b[1;33m.\u001b[0m\u001b[0mpreprocessing\u001b[0m\u001b[1;33m.\u001b[0m\u001b[0mimage\u001b[0m \u001b[1;32mimport\u001b[0m \u001b[0mImageDataGenerator\u001b[0m\u001b[1;33m\u001b[0m\u001b[0m\n\u001b[0m\u001b[0;32m      2\u001b[0m \u001b[0ma1\u001b[0m \u001b[1;33m=\u001b[0m \u001b[0mnp\u001b[0m\u001b[1;33m.\u001b[0m\u001b[0marray\u001b[0m\u001b[1;33m(\u001b[0m\u001b[1;33m[\u001b[0m\u001b[1;33m[\u001b[0m\u001b[1;36m12\u001b[0m\u001b[1;33m,\u001b[0m \u001b[1;36m2\u001b[0m\u001b[1;33m,\u001b[0m \u001b[1;36m13\u001b[0m\u001b[1;33m,\u001b[0m \u001b[1;36m24\u001b[0m\u001b[1;33m,\u001b[0m \u001b[1;36m35\u001b[0m\u001b[1;33m]\u001b[0m \u001b[1;33m,\u001b[0m \u001b[1;33m[\u001b[0m\u001b[1;36m2\u001b[0m\u001b[1;33m,\u001b[0m \u001b[1;36m7\u001b[0m\u001b[1;33m,\u001b[0m \u001b[1;36m9\u001b[0m \u001b[1;33m,\u001b[0m\u001b[1;36m3\u001b[0m\u001b[1;33m,\u001b[0m \u001b[1;36m4\u001b[0m\u001b[1;33m]\u001b[0m\u001b[1;33m,\u001b[0m \u001b[1;33m[\u001b[0m\u001b[1;36m2\u001b[0m\u001b[1;33m,\u001b[0m \u001b[1;36m2\u001b[0m\u001b[1;33m,\u001b[0m \u001b[1;36m3\u001b[0m\u001b[1;33m,\u001b[0m \u001b[1;36m4\u001b[0m\u001b[1;33m,\u001b[0m \u001b[1;36m5\u001b[0m\u001b[1;33m]\u001b[0m\u001b[1;33m,\u001b[0m \u001b[1;33m[\u001b[0m\u001b[1;36m22\u001b[0m\u001b[1;33m,\u001b[0m \u001b[1;36m17\u001b[0m\u001b[1;33m,\u001b[0m \u001b[1;36m9\u001b[0m \u001b[1;33m,\u001b[0m\u001b[1;36m34\u001b[0m\u001b[1;33m,\u001b[0m \u001b[1;36m54\u001b[0m\u001b[1;33m]\u001b[0m\u001b[1;33m]\u001b[0m\u001b[1;33m)\u001b[0m\u001b[1;33m\u001b[0m\u001b[0m\n\u001b[0;32m      3\u001b[0m \u001b[0ma2\u001b[0m \u001b[1;33m=\u001b[0m \u001b[0mnp\u001b[0m\u001b[1;33m.\u001b[0m\u001b[0marray\u001b[0m\u001b[1;33m(\u001b[0m\u001b[1;33m[\u001b[0m\u001b[1;36m1.1\u001b[0m\u001b[1;33m,\u001b[0m \u001b[1;36m2.3\u001b[0m\u001b[1;33m,\u001b[0m \u001b[1;36m5.2\u001b[0m\u001b[1;33m,\u001b[0m \u001b[1;36m3.4\u001b[0m\u001b[1;33m]\u001b[0m\u001b[1;33m)\u001b[0m\u001b[1;33m\u001b[0m\u001b[0m\n\u001b[0;32m      4\u001b[0m \u001b[1;32mprint\u001b[0m \u001b[0mnp\u001b[0m\u001b[1;33m.\u001b[0m\u001b[0mrandom\u001b[0m\u001b[1;33m.\u001b[0m\u001b[0mrand\u001b[0m\u001b[1;33m(\u001b[0m\u001b[0ma1\u001b[0m\u001b[1;33m.\u001b[0m\u001b[0mshape\u001b[0m\u001b[1;33m)\u001b[0m\u001b[1;33m\u001b[0m\u001b[0m\n",
      "\u001b[1;31mImportError\u001b[0m: No module named keras.preprocessing.image"
     ]
    }
   ],
   "source": [
    "from keras.preprocessing.image import ImageDataGenerator\n",
    "a1 = np.array([[12, 2, 13, 24, 35] , [2, 7, 9 ,3, 4], [2, 2, 3, 4, 5], [22, 17, 9 ,34, 54]])\n",
    "a2 = np.array([1.1, 2.3, 5.2, 3.4])\n",
    "print np.random.rand(a1.shape)"
   ]
  },
  {
   "cell_type": "code",
   "execution_count": 6,
   "metadata": {
    "collapsed": false
   },
   "outputs": [
    {
     "name": "stdout",
     "output_type": "stream",
     "text": [
      "(4L, 5L)\n",
      "[22 17 13 34 54]\n",
      "[35  9  5 54]\n",
      "54\n"
     ]
    }
   ],
   "source": [
    "a = np.array([[12, 2, 13, 24, 35] , [2, 7, 9 ,3, 4], [2, 2, 3, 4, 5], [22, 17, 9 ,34, 54]])\n",
    "print a.shape\n",
    "print np.max(a,axis=0)\n",
    "print np.max(a,axis=1)\n",
    "print np.max(a,axis=(0,1))"
   ]
  },
  {
   "cell_type": "code",
   "execution_count": 3,
   "metadata": {
    "collapsed": false
   },
   "outputs": [
    {
     "name": "stdout",
     "output_type": "stream",
     "text": [
      "[ 0.90909091  0.43478261  0.19230769  0.29411765]\n",
      "(4L,)\n",
      "[array([ 1.1]), array([ 2.3]), array([ 5.2]), array([ 3.4])]\n",
      "[[ 1.1]\n",
      " [ 2.3]\n",
      " [ 3.4]]\n",
      "[ 1.1  2.3  3.4]\n",
      "(3L,)\n"
     ]
    }
   ],
   "source": [
    "a = np.array([1.1, 2.3, 5.2, 3.4])\n",
    "print (1/a)\n",
    "print a.shape\n",
    "xx = np.array_split(a,4)\n",
    "print xx\n",
    "yy = np.delete(xx,2,0)\n",
    "print yy\n",
    "zz = np.hstack(yy)\n",
    "print zz\n",
    "print zz.shape"
   ]
  },
  {
   "cell_type": "code",
   "execution_count": 15,
   "metadata": {
    "collapsed": false
   },
   "outputs": [
    {
     "name": "stdout",
     "output_type": "stream",
     "text": [
      "0.01\n"
     ]
    }
   ],
   "source": [
    "#np.random.uniform(10e-5,10e-3)\n",
    "print 10e-3"
   ]
  },
  {
   "cell_type": "code",
   "execution_count": 17,
   "metadata": {
    "collapsed": false
   },
   "outputs": [
    {
     "name": "stdout",
     "output_type": "stream",
     "text": [
      "2\n"
     ]
    }
   ],
   "source": [
    "a = []\n",
    "for i in xrange(5):\n",
    "    a.append(i)\n",
    "print a[2]"
   ]
  },
  {
   "cell_type": "code",
   "execution_count": 58,
   "metadata": {
    "collapsed": false
   },
   "outputs": [
    {
     "name": "stdout",
     "output_type": "stream",
     "text": [
      "39.8120584748\n",
      "[1521   64]\n"
     ]
    }
   ],
   "source": [
    "aa = np.array([1, 2, 3, 4, 5])\n",
    "print  np.sqrt(np.sum(np.square(aa - a)))\n",
    "print np.sum(np.square(a-aa),axis=1)\n"
   ]
  }
 ],
 "metadata": {
  "anaconda-cloud": {},
  "kernelspec": {
   "display_name": "Python [Root]",
   "language": "python",
   "name": "Python [Root]"
  },
  "language_info": {
   "codemirror_mode": {
    "name": "ipython",
    "version": 2
   },
   "file_extension": ".py",
   "mimetype": "text/x-python",
   "name": "python",
   "nbconvert_exporter": "python",
   "pygments_lexer": "ipython2",
   "version": "2.7.11"
  }
 },
 "nbformat": 4,
 "nbformat_minor": 0
}
